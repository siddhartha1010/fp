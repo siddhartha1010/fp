{
 "cells": [
  {
   "cell_type": "code",
   "execution_count": null,
   "id": "047ab724-43f3-4863-8f17-fcafb46e1ab0",
   "metadata": {},
   "outputs": [],
   "source": []
  }
 ],
 "metadata": {
  "kernelspec": {
   "display_name": "siddhartha",
   "language": "python",
   "name": "siddhartha"
  },
  "language_info": {
   "codemirror_mode": {
    "name": "ipython",
    "version": 3
   },
   "file_extension": ".py",
   "mimetype": "text/x-python",
   "name": "python",
   "nbconvert_exporter": "python",
   "pygments_lexer": "ipython3",
   "version": "3.10.12"
  }
 },
 "nbformat": 4,
 "nbformat_minor": 5
}
